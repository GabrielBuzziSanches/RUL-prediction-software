{
 "cells": [
  {
   "cell_type": "code",
   "execution_count": 1,
   "metadata": {},
   "outputs": [],
   "source": [
    "from utils import load_cell\\\n",
    "\n",
    "import pandas as pd"
   ]
  },
  {
   "cell_type": "code",
   "execution_count": 2,
   "metadata": {},
   "outputs": [],
   "source": [
    "raw_data_folder = '../0-Dataset/train/'\n",
    "\n",
    "cell = load_cell(raw_data_folder, 'b1c14')"
   ]
  },
  {
   "cell_type": "code",
   "execution_count": 3,
   "metadata": {},
   "outputs": [],
   "source": [
    "cycle = cell['cycles']['300']"
   ]
  },
  {
   "cell_type": "code",
   "execution_count": 4,
   "metadata": {},
   "outputs": [],
   "source": [
    "voltage = cycle['V']\n",
    "current = cycle['I']\n",
    "charge_cap = cycle['Qc']\n",
    "discharge_cap = cycle['Qd']\n",
    "temperature = cycle['T']\n",
    "timestaps = cycle['t']\n",
    "\n",
    "IR = cell['summary']['IR'][10]\n",
    "chargetime = cell['summary']['chargetime'][10]"
   ]
  },
  {
   "cell_type": "code",
   "execution_count": 5,
   "metadata": {},
   "outputs": [],
   "source": [
    "df = pd.DataFrame({'V': voltage, 'I': current, 'Qc': charge_cap, 'Qd': discharge_cap, 'T': temperature, 't': timestaps, 'IR': IR, 'chargetime': chargetime})"
   ]
  },
  {
   "cell_type": "code",
   "execution_count": 6,
   "metadata": {},
   "outputs": [
    {
     "data": {
      "text/html": [
       "<div>\n",
       "<style scoped>\n",
       "    .dataframe tbody tr th:only-of-type {\n",
       "        vertical-align: middle;\n",
       "    }\n",
       "\n",
       "    .dataframe tbody tr th {\n",
       "        vertical-align: top;\n",
       "    }\n",
       "\n",
       "    .dataframe thead th {\n",
       "        text-align: right;\n",
       "    }\n",
       "</style>\n",
       "<table border=\"1\" class=\"dataframe\">\n",
       "  <thead>\n",
       "    <tr style=\"text-align: right;\">\n",
       "      <th></th>\n",
       "      <th>V</th>\n",
       "      <th>I</th>\n",
       "      <th>Qc</th>\n",
       "      <th>Qd</th>\n",
       "      <th>T</th>\n",
       "      <th>t</th>\n",
       "      <th>IR</th>\n",
       "      <th>chargetime</th>\n",
       "    </tr>\n",
       "  </thead>\n",
       "  <tbody>\n",
       "    <tr>\n",
       "      <th>0</th>\n",
       "      <td>2.283786</td>\n",
       "      <td>0.289827</td>\n",
       "      <td>0.000002</td>\n",
       "      <td>0.0</td>\n",
       "      <td>30.613061</td>\n",
       "      <td>0.000000</td>\n",
       "      <td>0.016465</td>\n",
       "      <td>10.201245</td>\n",
       "    </tr>\n",
       "    <tr>\n",
       "      <th>1</th>\n",
       "      <td>2.301465</td>\n",
       "      <td>0.506422</td>\n",
       "      <td>0.000002</td>\n",
       "      <td>0.0</td>\n",
       "      <td>30.613306</td>\n",
       "      <td>0.000520</td>\n",
       "      <td>0.016465</td>\n",
       "      <td>10.201245</td>\n",
       "    </tr>\n",
       "    <tr>\n",
       "      <th>2</th>\n",
       "      <td>2.312410</td>\n",
       "      <td>0.614926</td>\n",
       "      <td>0.000002</td>\n",
       "      <td>0.0</td>\n",
       "      <td>30.613475</td>\n",
       "      <td>0.000878</td>\n",
       "      <td>0.016465</td>\n",
       "      <td>10.201245</td>\n",
       "    </tr>\n",
       "    <tr>\n",
       "      <th>3</th>\n",
       "      <td>2.333012</td>\n",
       "      <td>0.793315</td>\n",
       "      <td>0.000002</td>\n",
       "      <td>0.0</td>\n",
       "      <td>30.613690</td>\n",
       "      <td>0.001337</td>\n",
       "      <td>0.016465</td>\n",
       "      <td>10.201245</td>\n",
       "    </tr>\n",
       "    <tr>\n",
       "      <th>4</th>\n",
       "      <td>2.357006</td>\n",
       "      <td>0.973195</td>\n",
       "      <td>0.000002</td>\n",
       "      <td>0.0</td>\n",
       "      <td>30.613904</td>\n",
       "      <td>0.001792</td>\n",
       "      <td>0.016465</td>\n",
       "      <td>10.201245</td>\n",
       "    </tr>\n",
       "  </tbody>\n",
       "</table>\n",
       "</div>"
      ],
      "text/plain": [
       "          V         I        Qc   Qd          T         t        IR  \\\n",
       "0  2.283786  0.289827  0.000002  0.0  30.613061  0.000000  0.016465   \n",
       "1  2.301465  0.506422  0.000002  0.0  30.613306  0.000520  0.016465   \n",
       "2  2.312410  0.614926  0.000002  0.0  30.613475  0.000878  0.016465   \n",
       "3  2.333012  0.793315  0.000002  0.0  30.613690  0.001337  0.016465   \n",
       "4  2.357006  0.973195  0.000002  0.0  30.613904  0.001792  0.016465   \n",
       "\n",
       "   chargetime  \n",
       "0   10.201245  \n",
       "1   10.201245  \n",
       "2   10.201245  \n",
       "3   10.201245  \n",
       "4   10.201245  "
      ]
     },
     "execution_count": 6,
     "metadata": {},
     "output_type": "execute_result"
    }
   ],
   "source": [
    "df.head()"
   ]
  },
  {
   "cell_type": "code",
   "execution_count": 7,
   "metadata": {},
   "outputs": [],
   "source": [
    "df.to_csv('example_test_cell_1.csv')"
   ]
  }
 ],
 "metadata": {
  "kernelspec": {
   "display_name": "Python 3",
   "language": "python",
   "name": "python3"
  },
  "language_info": {
   "codemirror_mode": {
    "name": "ipython",
    "version": 3
   },
   "file_extension": ".py",
   "mimetype": "text/x-python",
   "name": "python",
   "nbconvert_exporter": "python",
   "pygments_lexer": "ipython3",
   "version": "3.9.13"
  }
 },
 "nbformat": 4,
 "nbformat_minor": 2
}
