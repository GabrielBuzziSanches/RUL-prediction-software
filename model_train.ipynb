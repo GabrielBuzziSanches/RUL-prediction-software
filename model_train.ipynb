{
 "cells": [
  {
   "cell_type": "code",
   "execution_count": 27,
   "metadata": {},
   "outputs": [],
   "source": [
    "import pandas as pd\n",
    "import numpy as np\n",
    "import matplotlib.pyplot as plt\n",
    "import seaborn as sns\n",
    "import joblib\n",
    "\n",
    "from sklearn.ensemble import ExtraTreesClassifier, ExtraTreesRegressor\n",
    "from sklearn.metrics import accuracy_score, r2_score, mean_squared_error"
   ]
  },
  {
   "cell_type": "code",
   "execution_count": 2,
   "metadata": {},
   "outputs": [],
   "source": [
    "features_train_dataset_filepath = './data/features/train/features_df.csv'"
   ]
  },
  {
   "cell_type": "code",
   "execution_count": 3,
   "metadata": {},
   "outputs": [],
   "source": [
    "df_train = pd.read_csv(features_train_dataset_filepath).drop(columns=['Unnamed: 0'])\n",
    "\n",
    "df_train.replace([np.inf, -np.inf], np.nan, inplace=True)\n",
    "df_train = df_train.dropna(axis=1)\n",
    "\n",
    "bins = [0, 600, 1100, 2000]\n",
    "labels = ['A', 'B', 'C']\n",
    "df_train['class'] = pd.cut(df_train['cycle_life'], bins=bins, labels=labels)"
   ]
  },
  {
   "cell_type": "code",
   "execution_count": 4,
   "metadata": {},
   "outputs": [
    {
     "data": {
      "text/html": [
       "<div>\n",
       "<style scoped>\n",
       "    .dataframe tbody tr th:only-of-type {\n",
       "        vertical-align: middle;\n",
       "    }\n",
       "\n",
       "    .dataframe tbody tr th {\n",
       "        vertical-align: top;\n",
       "    }\n",
       "\n",
       "    .dataframe thead th {\n",
       "        text-align: right;\n",
       "    }\n",
       "</style>\n",
       "<table border=\"1\" class=\"dataframe\">\n",
       "  <thead>\n",
       "    <tr style=\"text-align: right;\">\n",
       "      <th></th>\n",
       "      <th>cell</th>\n",
       "      <th>cycle</th>\n",
       "      <th>cycle_life</th>\n",
       "      <th>IR</th>\n",
       "      <th>end_of_charge_t</th>\n",
       "      <th>start_of_discharge_t</th>\n",
       "      <th>V_max</th>\n",
       "      <th>V_min</th>\n",
       "      <th>V_median</th>\n",
       "      <th>V_sum</th>\n",
       "      <th>...</th>\n",
       "      <th>discharge_temp_peak_t</th>\n",
       "      <th>discharge_temp_peak</th>\n",
       "      <th>V_sup_lim_reach_t</th>\n",
       "      <th>final_discharge_v</th>\n",
       "      <th>dV_peak</th>\n",
       "      <th>dQdV_valley</th>\n",
       "      <th>dQdV_valley_V</th>\n",
       "      <th>RUL</th>\n",
       "      <th>SOH</th>\n",
       "      <th>class</th>\n",
       "    </tr>\n",
       "  </thead>\n",
       "  <tbody>\n",
       "    <tr>\n",
       "      <th>0</th>\n",
       "      <td>b1c14</td>\n",
       "      <td>0</td>\n",
       "      <td>426</td>\n",
       "      <td>0.017317</td>\n",
       "      <td>10.212414</td>\n",
       "      <td>42.892137</td>\n",
       "      <td>3.600088</td>\n",
       "      <td>1.999769</td>\n",
       "      <td>3.396744</td>\n",
       "      <td>3151.683218</td>\n",
       "      <td>...</td>\n",
       "      <td>57.964251</td>\n",
       "      <td>35.156380</td>\n",
       "      <td>8.803805</td>\n",
       "      <td>2.334505</td>\n",
       "      <td>0.000021</td>\n",
       "      <td>-6.988153</td>\n",
       "      <td>3.152970</td>\n",
       "      <td>425</td>\n",
       "      <td>98.431167</td>\n",
       "      <td>A</td>\n",
       "    </tr>\n",
       "    <tr>\n",
       "      <th>1</th>\n",
       "      <td>b1c14</td>\n",
       "      <td>1</td>\n",
       "      <td>426</td>\n",
       "      <td>0.017187</td>\n",
       "      <td>10.203070</td>\n",
       "      <td>42.408679</td>\n",
       "      <td>3.600065</td>\n",
       "      <td>1.999888</td>\n",
       "      <td>3.396222</td>\n",
       "      <td>3156.253267</td>\n",
       "      <td>...</td>\n",
       "      <td>57.192720</td>\n",
       "      <td>34.877557</td>\n",
       "      <td>8.745489</td>\n",
       "      <td>2.328960</td>\n",
       "      <td>0.000021</td>\n",
       "      <td>-6.916812</td>\n",
       "      <td>3.152241</td>\n",
       "      <td>424</td>\n",
       "      <td>98.382676</td>\n",
       "      <td>A</td>\n",
       "    </tr>\n",
       "    <tr>\n",
       "      <th>2</th>\n",
       "      <td>b1c14</td>\n",
       "      <td>2</td>\n",
       "      <td>426</td>\n",
       "      <td>0.017008</td>\n",
       "      <td>10.196563</td>\n",
       "      <td>41.470584</td>\n",
       "      <td>3.600100</td>\n",
       "      <td>1.999874</td>\n",
       "      <td>3.391148</td>\n",
       "      <td>3150.137950</td>\n",
       "      <td>...</td>\n",
       "      <td>56.252178</td>\n",
       "      <td>34.624506</td>\n",
       "      <td>8.691030</td>\n",
       "      <td>2.323540</td>\n",
       "      <td>0.000025</td>\n",
       "      <td>-7.034547</td>\n",
       "      <td>3.155947</td>\n",
       "      <td>423</td>\n",
       "      <td>98.398700</td>\n",
       "      <td>A</td>\n",
       "    </tr>\n",
       "    <tr>\n",
       "      <th>3</th>\n",
       "      <td>b1c14</td>\n",
       "      <td>3</td>\n",
       "      <td>426</td>\n",
       "      <td>0.016933</td>\n",
       "      <td>10.217278</td>\n",
       "      <td>42.249823</td>\n",
       "      <td>3.600106</td>\n",
       "      <td>1.999843</td>\n",
       "      <td>3.395058</td>\n",
       "      <td>3158.460539</td>\n",
       "      <td>...</td>\n",
       "      <td>57.023454</td>\n",
       "      <td>34.981057</td>\n",
       "      <td>8.629457</td>\n",
       "      <td>2.321956</td>\n",
       "      <td>0.000014</td>\n",
       "      <td>-6.644012</td>\n",
       "      <td>3.152074</td>\n",
       "      <td>422</td>\n",
       "      <td>98.420615</td>\n",
       "      <td>A</td>\n",
       "    </tr>\n",
       "    <tr>\n",
       "      <th>4</th>\n",
       "      <td>b1c14</td>\n",
       "      <td>4</td>\n",
       "      <td>426</td>\n",
       "      <td>0.016850</td>\n",
       "      <td>10.187401</td>\n",
       "      <td>41.638438</td>\n",
       "      <td>3.600076</td>\n",
       "      <td>1.999544</td>\n",
       "      <td>3.392202</td>\n",
       "      <td>3154.958304</td>\n",
       "      <td>...</td>\n",
       "      <td>56.816983</td>\n",
       "      <td>35.322489</td>\n",
       "      <td>9.025080</td>\n",
       "      <td>2.319709</td>\n",
       "      <td>0.000022</td>\n",
       "      <td>-7.283860</td>\n",
       "      <td>3.146466</td>\n",
       "      <td>421</td>\n",
       "      <td>98.359591</td>\n",
       "      <td>A</td>\n",
       "    </tr>\n",
       "  </tbody>\n",
       "</table>\n",
       "<p>5 rows × 128 columns</p>\n",
       "</div>"
      ],
      "text/plain": [
       "    cell  cycle  cycle_life        IR  end_of_charge_t  start_of_discharge_t  \\\n",
       "0  b1c14      0         426  0.017317        10.212414             42.892137   \n",
       "1  b1c14      1         426  0.017187        10.203070             42.408679   \n",
       "2  b1c14      2         426  0.017008        10.196563             41.470584   \n",
       "3  b1c14      3         426  0.016933        10.217278             42.249823   \n",
       "4  b1c14      4         426  0.016850        10.187401             41.638438   \n",
       "\n",
       "      V_max     V_min  V_median        V_sum  ...  discharge_temp_peak_t  \\\n",
       "0  3.600088  1.999769  3.396744  3151.683218  ...              57.964251   \n",
       "1  3.600065  1.999888  3.396222  3156.253267  ...              57.192720   \n",
       "2  3.600100  1.999874  3.391148  3150.137950  ...              56.252178   \n",
       "3  3.600106  1.999843  3.395058  3158.460539  ...              57.023454   \n",
       "4  3.600076  1.999544  3.392202  3154.958304  ...              56.816983   \n",
       "\n",
       "   discharge_temp_peak  V_sup_lim_reach_t  final_discharge_v   dV_peak  \\\n",
       "0            35.156380           8.803805           2.334505  0.000021   \n",
       "1            34.877557           8.745489           2.328960  0.000021   \n",
       "2            34.624506           8.691030           2.323540  0.000025   \n",
       "3            34.981057           8.629457           2.321956  0.000014   \n",
       "4            35.322489           9.025080           2.319709  0.000022   \n",
       "\n",
       "   dQdV_valley  dQdV_valley_V  RUL        SOH  class  \n",
       "0    -6.988153       3.152970  425  98.431167      A  \n",
       "1    -6.916812       3.152241  424  98.382676      A  \n",
       "2    -7.034547       3.155947  423  98.398700      A  \n",
       "3    -6.644012       3.152074  422  98.420615      A  \n",
       "4    -7.283860       3.146466  421  98.359591      A  \n",
       "\n",
       "[5 rows x 128 columns]"
      ]
     },
     "execution_count": 4,
     "metadata": {},
     "output_type": "execute_result"
    }
   ],
   "source": [
    "df_train.head()"
   ]
  },
  {
   "cell_type": "code",
   "execution_count": 5,
   "metadata": {},
   "outputs": [
    {
     "data": {
      "text/html": [
       "<div>\n",
       "<style scoped>\n",
       "    .dataframe tbody tr th:only-of-type {\n",
       "        vertical-align: middle;\n",
       "    }\n",
       "\n",
       "    .dataframe tbody tr th {\n",
       "        vertical-align: top;\n",
       "    }\n",
       "\n",
       "    .dataframe thead th {\n",
       "        text-align: right;\n",
       "    }\n",
       "</style>\n",
       "<table border=\"1\" class=\"dataframe\">\n",
       "  <thead>\n",
       "    <tr style=\"text-align: right;\">\n",
       "      <th></th>\n",
       "      <th>count</th>\n",
       "      <th>prop</th>\n",
       "    </tr>\n",
       "    <tr>\n",
       "      <th>class</th>\n",
       "      <th></th>\n",
       "      <th></th>\n",
       "    </tr>\n",
       "  </thead>\n",
       "  <tbody>\n",
       "    <tr>\n",
       "      <th>A</th>\n",
       "      <td>48</td>\n",
       "      <td>0.77</td>\n",
       "    </tr>\n",
       "    <tr>\n",
       "      <th>B</th>\n",
       "      <td>9</td>\n",
       "      <td>0.15</td>\n",
       "    </tr>\n",
       "    <tr>\n",
       "      <th>C</th>\n",
       "      <td>5</td>\n",
       "      <td>0.08</td>\n",
       "    </tr>\n",
       "  </tbody>\n",
       "</table>\n",
       "</div>"
      ],
      "text/plain": [
       "       count  prop\n",
       "class             \n",
       "A         48  0.77\n",
       "B          9  0.15\n",
       "C          5  0.08"
      ]
     },
     "execution_count": 5,
     "metadata": {},
     "output_type": "execute_result"
    }
   ],
   "source": [
    "cells_names = df_train['cell'].unique()\n",
    "cell_class_dict = []\n",
    "for name in cells_names:\n",
    "    cell_class_dict.append({'cell': name, 'class': df_train[df_train['cell']==name]['class'].unique()[0]})\n",
    "count_df = pd.DataFrame(pd.DataFrame(cell_class_dict).value_counts('class'))\n",
    "count_df['prop'] = (count_df['count']/count_df['count'].sum()).round(2)\n",
    "count_df"
   ]
  },
  {
   "cell_type": "code",
   "execution_count": 6,
   "metadata": {},
   "outputs": [],
   "source": [
    "X_train = df_train.drop(columns=['cell', 'cycle', 'cycle_life', 'RUL', 'SOH', 'class'])\n",
    "y_train = df_train['class']"
   ]
  },
  {
   "cell_type": "code",
   "execution_count": 7,
   "metadata": {},
   "outputs": [],
   "source": [
    "clf = ExtraTreesClassifier(n_estimators=100, random_state=0)"
   ]
  },
  {
   "cell_type": "code",
   "execution_count": 8,
   "metadata": {},
   "outputs": [
    {
     "data": {
      "text/html": [
       "<style>#sk-container-id-1 {color: black;}#sk-container-id-1 pre{padding: 0;}#sk-container-id-1 div.sk-toggleable {background-color: white;}#sk-container-id-1 label.sk-toggleable__label {cursor: pointer;display: block;width: 100%;margin-bottom: 0;padding: 0.3em;box-sizing: border-box;text-align: center;}#sk-container-id-1 label.sk-toggleable__label-arrow:before {content: \"▸\";float: left;margin-right: 0.25em;color: #696969;}#sk-container-id-1 label.sk-toggleable__label-arrow:hover:before {color: black;}#sk-container-id-1 div.sk-estimator:hover label.sk-toggleable__label-arrow:before {color: black;}#sk-container-id-1 div.sk-toggleable__content {max-height: 0;max-width: 0;overflow: hidden;text-align: left;background-color: #f0f8ff;}#sk-container-id-1 div.sk-toggleable__content pre {margin: 0.2em;color: black;border-radius: 0.25em;background-color: #f0f8ff;}#sk-container-id-1 input.sk-toggleable__control:checked~div.sk-toggleable__content {max-height: 200px;max-width: 100%;overflow: auto;}#sk-container-id-1 input.sk-toggleable__control:checked~label.sk-toggleable__label-arrow:before {content: \"▾\";}#sk-container-id-1 div.sk-estimator input.sk-toggleable__control:checked~label.sk-toggleable__label {background-color: #d4ebff;}#sk-container-id-1 div.sk-label input.sk-toggleable__control:checked~label.sk-toggleable__label {background-color: #d4ebff;}#sk-container-id-1 input.sk-hidden--visually {border: 0;clip: rect(1px 1px 1px 1px);clip: rect(1px, 1px, 1px, 1px);height: 1px;margin: -1px;overflow: hidden;padding: 0;position: absolute;width: 1px;}#sk-container-id-1 div.sk-estimator {font-family: monospace;background-color: #f0f8ff;border: 1px dotted black;border-radius: 0.25em;box-sizing: border-box;margin-bottom: 0.5em;}#sk-container-id-1 div.sk-estimator:hover {background-color: #d4ebff;}#sk-container-id-1 div.sk-parallel-item::after {content: \"\";width: 100%;border-bottom: 1px solid gray;flex-grow: 1;}#sk-container-id-1 div.sk-label:hover label.sk-toggleable__label {background-color: #d4ebff;}#sk-container-id-1 div.sk-serial::before {content: \"\";position: absolute;border-left: 1px solid gray;box-sizing: border-box;top: 0;bottom: 0;left: 50%;z-index: 0;}#sk-container-id-1 div.sk-serial {display: flex;flex-direction: column;align-items: center;background-color: white;padding-right: 0.2em;padding-left: 0.2em;position: relative;}#sk-container-id-1 div.sk-item {position: relative;z-index: 1;}#sk-container-id-1 div.sk-parallel {display: flex;align-items: stretch;justify-content: center;background-color: white;position: relative;}#sk-container-id-1 div.sk-item::before, #sk-container-id-1 div.sk-parallel-item::before {content: \"\";position: absolute;border-left: 1px solid gray;box-sizing: border-box;top: 0;bottom: 0;left: 50%;z-index: -1;}#sk-container-id-1 div.sk-parallel-item {display: flex;flex-direction: column;z-index: 1;position: relative;background-color: white;}#sk-container-id-1 div.sk-parallel-item:first-child::after {align-self: flex-end;width: 50%;}#sk-container-id-1 div.sk-parallel-item:last-child::after {align-self: flex-start;width: 50%;}#sk-container-id-1 div.sk-parallel-item:only-child::after {width: 0;}#sk-container-id-1 div.sk-dashed-wrapped {border: 1px dashed gray;margin: 0 0.4em 0.5em 0.4em;box-sizing: border-box;padding-bottom: 0.4em;background-color: white;}#sk-container-id-1 div.sk-label label {font-family: monospace;font-weight: bold;display: inline-block;line-height: 1.2em;}#sk-container-id-1 div.sk-label-container {text-align: center;}#sk-container-id-1 div.sk-container {/* jupyter's `normalize.less` sets `[hidden] { display: none; }` but bootstrap.min.css set `[hidden] { display: none !important; }` so we also need the `!important` here to be able to override the default hidden behavior on the sphinx rendered scikit-learn.org. See: https://github.com/scikit-learn/scikit-learn/issues/21755 */display: inline-block !important;position: relative;}#sk-container-id-1 div.sk-text-repr-fallback {display: none;}</style><div id=\"sk-container-id-1\" class=\"sk-top-container\"><div class=\"sk-text-repr-fallback\"><pre>ExtraTreesClassifier(random_state=0)</pre><b>In a Jupyter environment, please rerun this cell to show the HTML representation or trust the notebook. <br />On GitHub, the HTML representation is unable to render, please try loading this page with nbviewer.org.</b></div><div class=\"sk-container\" hidden><div class=\"sk-item\"><div class=\"sk-estimator sk-toggleable\"><input class=\"sk-toggleable__control sk-hidden--visually\" id=\"sk-estimator-id-1\" type=\"checkbox\" checked><label for=\"sk-estimator-id-1\" class=\"sk-toggleable__label sk-toggleable__label-arrow\">ExtraTreesClassifier</label><div class=\"sk-toggleable__content\"><pre>ExtraTreesClassifier(random_state=0)</pre></div></div></div></div></div>"
      ],
      "text/plain": [
       "ExtraTreesClassifier(random_state=0)"
      ]
     },
     "execution_count": 8,
     "metadata": {},
     "output_type": "execute_result"
    }
   ],
   "source": [
    "clf.fit(X_train, y_train)"
   ]
  },
  {
   "cell_type": "code",
   "execution_count": 9,
   "metadata": {},
   "outputs": [],
   "source": [
    "features_val_dataset_filepath = './data/features/val/features_df.csv'"
   ]
  },
  {
   "cell_type": "code",
   "execution_count": 10,
   "metadata": {},
   "outputs": [],
   "source": [
    "df_val = pd.read_csv(features_val_dataset_filepath).drop(columns=['Unnamed: 0'])\n",
    "\n",
    "df_val.replace([np.inf, -np.inf], np.nan, inplace=True)\n",
    "df_val = df_val.dropna(axis=1)\n",
    "\n",
    "bins = [0, 600, 1100, 2000]\n",
    "labels = ['A', 'B', 'C']\n",
    "df_val['class'] = pd.cut(df_val['cycle_life'], bins=bins, labels=labels)"
   ]
  },
  {
   "cell_type": "code",
   "execution_count": 11,
   "metadata": {},
   "outputs": [
    {
     "data": {
      "text/html": [
       "<div>\n",
       "<style scoped>\n",
       "    .dataframe tbody tr th:only-of-type {\n",
       "        vertical-align: middle;\n",
       "    }\n",
       "\n",
       "    .dataframe tbody tr th {\n",
       "        vertical-align: top;\n",
       "    }\n",
       "\n",
       "    .dataframe thead th {\n",
       "        text-align: right;\n",
       "    }\n",
       "</style>\n",
       "<table border=\"1\" class=\"dataframe\">\n",
       "  <thead>\n",
       "    <tr style=\"text-align: right;\">\n",
       "      <th></th>\n",
       "      <th>count</th>\n",
       "      <th>prop</th>\n",
       "    </tr>\n",
       "    <tr>\n",
       "      <th>class</th>\n",
       "      <th></th>\n",
       "      <th></th>\n",
       "    </tr>\n",
       "  </thead>\n",
       "  <tbody>\n",
       "    <tr>\n",
       "      <th>A</th>\n",
       "      <td>16</td>\n",
       "      <td>0.76</td>\n",
       "    </tr>\n",
       "    <tr>\n",
       "      <th>B</th>\n",
       "      <td>4</td>\n",
       "      <td>0.19</td>\n",
       "    </tr>\n",
       "    <tr>\n",
       "      <th>C</th>\n",
       "      <td>1</td>\n",
       "      <td>0.05</td>\n",
       "    </tr>\n",
       "  </tbody>\n",
       "</table>\n",
       "</div>"
      ],
      "text/plain": [
       "       count  prop\n",
       "class             \n",
       "A         16  0.76\n",
       "B          4  0.19\n",
       "C          1  0.05"
      ]
     },
     "execution_count": 11,
     "metadata": {},
     "output_type": "execute_result"
    }
   ],
   "source": [
    "cells_names = df_val['cell'].unique()\n",
    "cell_class_dict = []\n",
    "for name in cells_names:\n",
    "    cell_class_dict.append({'cell': name, 'class': df_val[df_val['cell']==name]['class'].unique()[0]})\n",
    "count_df = pd.DataFrame(pd.DataFrame(cell_class_dict).value_counts('class'))\n",
    "count_df['prop'] = (count_df['count']/count_df['count'].sum()).round(2)\n",
    "count_df"
   ]
  },
  {
   "cell_type": "code",
   "execution_count": 12,
   "metadata": {},
   "outputs": [],
   "source": [
    "X_val = df_val.drop(columns=['cell', 'cycle', 'cycle_life', 'RUL', 'SOH', 'class'])\n",
    "y_val = df_val['class']"
   ]
  },
  {
   "cell_type": "code",
   "execution_count": 13,
   "metadata": {},
   "outputs": [
    {
     "data": {
      "text/plain": [
       "1.0"
      ]
     },
     "execution_count": 13,
     "metadata": {},
     "output_type": "execute_result"
    }
   ],
   "source": [
    "y_pred = clf.predict(X_val)\n",
    "accuracy_score(y_val, y_pred)"
   ]
  },
  {
   "cell_type": "code",
   "execution_count": 14,
   "metadata": {},
   "outputs": [],
   "source": [
    "reg_A = ExtraTreesRegressor(n_estimators=100, random_state=0)\n",
    "reg_B = ExtraTreesRegressor(n_estimators=100, random_state=0)\n",
    "reg_C = ExtraTreesRegressor(n_estimators=100, random_state=0)"
   ]
  },
  {
   "cell_type": "code",
   "execution_count": 15,
   "metadata": {},
   "outputs": [],
   "source": [
    "df_train_A = df_train[df_train['class']=='A']\n",
    "df_train_B = df_train[df_train['class']=='B']\n",
    "df_train_C = df_train[df_train['class']=='C']"
   ]
  },
  {
   "cell_type": "code",
   "execution_count": 16,
   "metadata": {},
   "outputs": [],
   "source": [
    "X_train_A = df_train_A.drop(columns=['cell', 'cycle', 'cycle_life', 'RUL', 'SOH', 'class'])\n",
    "y_train_A = df_train_A['RUL']\n",
    "\n",
    "X_train_B = df_train_B.drop(columns=['cell', 'cycle', 'cycle_life', 'RUL', 'SOH', 'class'])\n",
    "y_train_B = df_train_B['RUL']\n",
    "\n",
    "X_train_C = df_train_C.drop(columns=['cell', 'cycle', 'cycle_life', 'RUL', 'SOH', 'class'])\n",
    "y_train_C = df_train_C['RUL']"
   ]
  },
  {
   "cell_type": "code",
   "execution_count": 17,
   "metadata": {},
   "outputs": [
    {
     "data": {
      "text/html": [
       "<style>#sk-container-id-2 {color: black;}#sk-container-id-2 pre{padding: 0;}#sk-container-id-2 div.sk-toggleable {background-color: white;}#sk-container-id-2 label.sk-toggleable__label {cursor: pointer;display: block;width: 100%;margin-bottom: 0;padding: 0.3em;box-sizing: border-box;text-align: center;}#sk-container-id-2 label.sk-toggleable__label-arrow:before {content: \"▸\";float: left;margin-right: 0.25em;color: #696969;}#sk-container-id-2 label.sk-toggleable__label-arrow:hover:before {color: black;}#sk-container-id-2 div.sk-estimator:hover label.sk-toggleable__label-arrow:before {color: black;}#sk-container-id-2 div.sk-toggleable__content {max-height: 0;max-width: 0;overflow: hidden;text-align: left;background-color: #f0f8ff;}#sk-container-id-2 div.sk-toggleable__content pre {margin: 0.2em;color: black;border-radius: 0.25em;background-color: #f0f8ff;}#sk-container-id-2 input.sk-toggleable__control:checked~div.sk-toggleable__content {max-height: 200px;max-width: 100%;overflow: auto;}#sk-container-id-2 input.sk-toggleable__control:checked~label.sk-toggleable__label-arrow:before {content: \"▾\";}#sk-container-id-2 div.sk-estimator input.sk-toggleable__control:checked~label.sk-toggleable__label {background-color: #d4ebff;}#sk-container-id-2 div.sk-label input.sk-toggleable__control:checked~label.sk-toggleable__label {background-color: #d4ebff;}#sk-container-id-2 input.sk-hidden--visually {border: 0;clip: rect(1px 1px 1px 1px);clip: rect(1px, 1px, 1px, 1px);height: 1px;margin: -1px;overflow: hidden;padding: 0;position: absolute;width: 1px;}#sk-container-id-2 div.sk-estimator {font-family: monospace;background-color: #f0f8ff;border: 1px dotted black;border-radius: 0.25em;box-sizing: border-box;margin-bottom: 0.5em;}#sk-container-id-2 div.sk-estimator:hover {background-color: #d4ebff;}#sk-container-id-2 div.sk-parallel-item::after {content: \"\";width: 100%;border-bottom: 1px solid gray;flex-grow: 1;}#sk-container-id-2 div.sk-label:hover label.sk-toggleable__label {background-color: #d4ebff;}#sk-container-id-2 div.sk-serial::before {content: \"\";position: absolute;border-left: 1px solid gray;box-sizing: border-box;top: 0;bottom: 0;left: 50%;z-index: 0;}#sk-container-id-2 div.sk-serial {display: flex;flex-direction: column;align-items: center;background-color: white;padding-right: 0.2em;padding-left: 0.2em;position: relative;}#sk-container-id-2 div.sk-item {position: relative;z-index: 1;}#sk-container-id-2 div.sk-parallel {display: flex;align-items: stretch;justify-content: center;background-color: white;position: relative;}#sk-container-id-2 div.sk-item::before, #sk-container-id-2 div.sk-parallel-item::before {content: \"\";position: absolute;border-left: 1px solid gray;box-sizing: border-box;top: 0;bottom: 0;left: 50%;z-index: -1;}#sk-container-id-2 div.sk-parallel-item {display: flex;flex-direction: column;z-index: 1;position: relative;background-color: white;}#sk-container-id-2 div.sk-parallel-item:first-child::after {align-self: flex-end;width: 50%;}#sk-container-id-2 div.sk-parallel-item:last-child::after {align-self: flex-start;width: 50%;}#sk-container-id-2 div.sk-parallel-item:only-child::after {width: 0;}#sk-container-id-2 div.sk-dashed-wrapped {border: 1px dashed gray;margin: 0 0.4em 0.5em 0.4em;box-sizing: border-box;padding-bottom: 0.4em;background-color: white;}#sk-container-id-2 div.sk-label label {font-family: monospace;font-weight: bold;display: inline-block;line-height: 1.2em;}#sk-container-id-2 div.sk-label-container {text-align: center;}#sk-container-id-2 div.sk-container {/* jupyter's `normalize.less` sets `[hidden] { display: none; }` but bootstrap.min.css set `[hidden] { display: none !important; }` so we also need the `!important` here to be able to override the default hidden behavior on the sphinx rendered scikit-learn.org. See: https://github.com/scikit-learn/scikit-learn/issues/21755 */display: inline-block !important;position: relative;}#sk-container-id-2 div.sk-text-repr-fallback {display: none;}</style><div id=\"sk-container-id-2\" class=\"sk-top-container\"><div class=\"sk-text-repr-fallback\"><pre>ExtraTreesRegressor(random_state=0)</pre><b>In a Jupyter environment, please rerun this cell to show the HTML representation or trust the notebook. <br />On GitHub, the HTML representation is unable to render, please try loading this page with nbviewer.org.</b></div><div class=\"sk-container\" hidden><div class=\"sk-item\"><div class=\"sk-estimator sk-toggleable\"><input class=\"sk-toggleable__control sk-hidden--visually\" id=\"sk-estimator-id-2\" type=\"checkbox\" checked><label for=\"sk-estimator-id-2\" class=\"sk-toggleable__label sk-toggleable__label-arrow\">ExtraTreesRegressor</label><div class=\"sk-toggleable__content\"><pre>ExtraTreesRegressor(random_state=0)</pre></div></div></div></div></div>"
      ],
      "text/plain": [
       "ExtraTreesRegressor(random_state=0)"
      ]
     },
     "execution_count": 17,
     "metadata": {},
     "output_type": "execute_result"
    }
   ],
   "source": [
    "reg_A.fit(X_train_A, y_train_A)\n",
    "reg_B.fit(X_train_B, y_train_B)\n",
    "reg_C.fit(X_train_C, y_train_C)"
   ]
  },
  {
   "cell_type": "code",
   "execution_count": 18,
   "metadata": {},
   "outputs": [],
   "source": [
    "df_val_A = df_val[df_val['class']=='A']\n",
    "df_val_B = df_val[df_val['class']=='B']\n",
    "df_val_C = df_val[df_val['class']=='C']"
   ]
  },
  {
   "cell_type": "code",
   "execution_count": 19,
   "metadata": {},
   "outputs": [],
   "source": [
    "X_val_A = df_val_A.drop(columns=['cell', 'cycle', 'cycle_life', 'RUL', 'SOH', 'class'])\n",
    "y_val_A = df_val_A['RUL']\n",
    "\n",
    "X_val_B = df_val_B.drop(columns=['cell', 'cycle', 'cycle_life', 'RUL', 'SOH', 'class'])\n",
    "y_val_B = df_val_B['RUL']\n",
    "\n",
    "X_val_C = df_val_C.drop(columns=['cell', 'cycle', 'cycle_life', 'RUL', 'SOH', 'class'])\n",
    "y_val_C = df_val_C['RUL']"
   ]
  },
  {
   "cell_type": "code",
   "execution_count": 20,
   "metadata": {},
   "outputs": [],
   "source": [
    "y_pred_A = reg_A.predict(X_val_A)\n",
    "y_pred_B = reg_B.predict(X_val_B)\n",
    "y_pred_C = reg_C.predict(X_val_C)"
   ]
  },
  {
   "cell_type": "code",
   "execution_count": 24,
   "metadata": {},
   "outputs": [],
   "source": [
    "r2_A = r2_score(y_val_A, y_pred_A)\n",
    "r2_B = r2_score(y_val_B, y_pred_B)\n",
    "r2_C = r2_score(y_val_C, y_pred_C)\n",
    "\n",
    "rmse_A = mean_squared_error(y_val_A, y_pred_A)**.5\n",
    "rmse_B = mean_squared_error(y_val_B, y_pred_B)**.5\n",
    "rmse_C = mean_squared_error(y_val_C, y_pred_C)**.5"
   ]
  },
  {
   "cell_type": "code",
   "execution_count": 25,
   "metadata": {},
   "outputs": [
    {
     "name": "stdout",
     "output_type": "stream",
     "text": [
      "R2 class A = 0.9981742225370295\n",
      "R2 class B = 0.8739537986384862\n",
      "R2 class C = 0.9993607021015031\n",
      "RMSE class A = 5.957984930680047\n",
      "RMSE class B = 102.13838942891468\n",
      "RMSE class C = 8.681018745470455\n"
     ]
    }
   ],
   "source": [
    "print(f'R2 class A = {r2_A}')\n",
    "print(f'R2 class B = {r2_B}')\n",
    "print(f'R2 class C = {r2_C}')\n",
    "\n",
    "print(f'RMSE class A = {rmse_A}')\n",
    "print(f'RMSE class B = {rmse_B}')\n",
    "print(f'RMSE class C = {rmse_C}')"
   ]
  },
  {
   "cell_type": "code",
   "execution_count": 28,
   "metadata": {},
   "outputs": [
    {
     "data": {
      "text/plain": [
       "['./models/regressor_C.pkl']"
      ]
     },
     "execution_count": 28,
     "metadata": {},
     "output_type": "execute_result"
    }
   ],
   "source": [
    "joblib.dump(clf, './models/classifier.pkl')\n",
    "joblib.dump(reg_A, './models/regressor_A.pkl')\n",
    "joblib.dump(reg_B, './models/regressor_B.pkl')\n",
    "joblib.dump(reg_C, './models/regressor_C.pkl')"
   ]
  }
 ],
 "metadata": {
  "kernelspec": {
   "display_name": "Python 3",
   "language": "python",
   "name": "python3"
  },
  "language_info": {
   "codemirror_mode": {
    "name": "ipython",
    "version": 3
   },
   "file_extension": ".py",
   "mimetype": "text/x-python",
   "name": "python",
   "nbconvert_exporter": "python",
   "pygments_lexer": "ipython3",
   "version": "3.9.13"
  }
 },
 "nbformat": 4,
 "nbformat_minor": 2
}
